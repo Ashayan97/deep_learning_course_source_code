{
  "nbformat": 4,
  "nbformat_minor": 0,
  "metadata": {
    "colab": {
      "name": "IMDB_Data_Set_Training.ipynb",
      "version": "0.3.2",
      "provenance": [],
      "include_colab_link": true
    },
    "kernelspec": {
      "name": "python3",
      "display_name": "Python 3"
    },
    "accelerator": "GPU"
  },
  "cells": [
    {
      "cell_type": "markdown",
      "metadata": {
        "id": "view-in-github",
        "colab_type": "text"
      },
      "source": [
        "<a href=\"https://colab.research.google.com/github/Ashayan97/keras_imdb_dataset_review_positivity-/blob/master/IMDB_Data_Set_Training.ipynb\" target=\"_parent\"><img src=\"https://colab.research.google.com/assets/colab-badge.svg\" alt=\"Open In Colab\"/></a>"
      ]
    },
    {
      "cell_type": "code",
      "metadata": {
        "id": "XcIe0yd3fceK",
        "colab_type": "code",
        "outputId": "b264a841-e211-45c7-e271-9157bdc3fe8d",
        "colab": {
          "base_uri": "https://localhost:8080/",
          "height": 52
        }
      },
      "source": [
        "from keras.datasets import imdb\n",
        "!pip install numpy==1.16.1"
      ],
      "execution_count": 0,
      "outputs": [
        {
          "output_type": "stream",
          "text": [
            "Using TensorFlow backend.\n"
          ],
          "name": "stderr"
        },
        {
          "output_type": "stream",
          "text": [
            "Requirement already satisfied: numpy==1.16.1 in /usr/local/lib/python3.6/dist-packages (1.16.1)\n"
          ],
          "name": "stdout"
        }
      ]
    },
    {
      "cell_type": "code",
      "metadata": {
        "id": "UakxbaIugOZg",
        "colab_type": "code",
        "outputId": "3d24859f-4856-4608-c703-f7f89cd5e1bb",
        "colab": {
          "base_uri": "https://localhost:8080/",
          "height": 34
        }
      },
      "source": [
        "(train_data, train_labels), (test_data, test_labels) =imdb.load_data(num_words=10000)\n",
        "train_data.shape"
      ],
      "execution_count": 0,
      "outputs": [
        {
          "output_type": "execute_result",
          "data": {
            "text/plain": [
              "(25000,)"
            ]
          },
          "metadata": {
            "tags": []
          },
          "execution_count": 2
        }
      ]
    },
    {
      "cell_type": "code",
      "metadata": {
        "id": "QA7jgAcPf1Vv",
        "colab_type": "code",
        "colab": {}
      },
      "source": [
        "from keras import models\n",
        "from keras import layers\n",
        "import numpy as np"
      ],
      "execution_count": 0,
      "outputs": []
    },
    {
      "cell_type": "code",
      "metadata": {
        "id": "6hqbSzqCmcvU",
        "colab_type": "code",
        "outputId": "756c8cef-d0ab-4058-8e4b-e35d5efee655",
        "colab": {
          "base_uri": "https://localhost:8080/",
          "height": 52
        }
      },
      "source": [
        "\n",
        "word_index = imdb.get_word_index()\n",
        "train_data[0]\n",
        "# index=word_index[\"hi\"]\n",
        "# print(index)\n",
        "# word_index[\"how\"]\n",
        "def encode_imdb(input_text,word_index):\n",
        "  encoded=[]\n",
        "  for i in input_text.split() :\n",
        "    encoded.append(word_index[i]+3)\n",
        "  return encoded\n",
        "text=input()\n",
        "\n",
        "encoded_text=encode_imdb(text,word_index)\n",
        "encoded_text\n",
        "reverse_word_index = dict(\n",
        "    [(value, key) for (key, value) in word_index.items()]\n",
        ")\n",
        "decoded_review = ' '.join(\n",
        "    [reverse_word_index.get(i-3, '?') for i in encoded_text]\n",
        ")\n",
        "print(decoded_review)"
      ],
      "execution_count": 0,
      "outputs": [
        {
          "output_type": "stream",
          "text": [
            "hi how are you\n",
            "hi how are you\n"
          ],
          "name": "stdout"
        }
      ]
    },
    {
      "cell_type": "code",
      "metadata": {
        "id": "aDB0-SQugFy9",
        "colab_type": "code",
        "colab": {}
      },
      "source": [
        "def vectorize_sequences(sequences, dimension=10000) :\n",
        "  results = np.zeros((len(sequences), dimension))\n",
        "  for i, sequence in enumerate(sequences) :\n",
        "    results[i,sequence] = 1\n",
        "  return results\n",
        "x_train = vectorize_sequences(train_data)\n",
        "x_test = vectorize_sequences(test_data)\n",
        "y_train = np.asarray (train_labels).astype('float32')\n",
        "y_test = np.asarray (test_labels).astype('float32')"
      ],
      "execution_count": 0,
      "outputs": []
    },
    {
      "cell_type": "code",
      "metadata": {
        "id": "3UzN1DJ9gYY9",
        "colab_type": "code",
        "outputId": "b136babb-c772-455e-8a40-4983b2cdb876",
        "colab": {
          "base_uri": "https://localhost:8080/",
          "height": 90
        }
      },
      "source": [
        "model = models.Sequential()\n",
        "model.add(layers.Dense(32, activation='relu', input_shape=(10000,)))\n",
        "model.add(layers.Dense(32, activation='relu'))\n",
        "model.add(layers.Dense(1, activation='sigmoid'))"
      ],
      "execution_count": 0,
      "outputs": [
        {
          "output_type": "stream",
          "text": [
            "WARNING:tensorflow:From /usr/local/lib/python3.6/dist-packages/tensorflow/python/framework/op_def_library.py:263: colocate_with (from tensorflow.python.framework.ops) is deprecated and will be removed in a future version.\n",
            "Instructions for updating:\n",
            "Colocations handled automatically by placer.\n"
          ],
          "name": "stdout"
        }
      ]
    },
    {
      "cell_type": "code",
      "metadata": {
        "id": "CIs9a2IqfgHT",
        "colab_type": "code",
        "colab": {}
      },
      "source": [
        "model.compile(optimizer='rmsprop',\n",
        "             loss='binary_crossentropy',\n",
        "             metrics=['accuracy'])"
      ],
      "execution_count": 0,
      "outputs": []
    },
    {
      "cell_type": "code",
      "metadata": {
        "id": "YP5DcSCKfm8I",
        "colab_type": "code",
        "colab": {}
      },
      "source": [
        "x_val = x_train[:10000]\n",
        "partial_x_train = x_train[10000:]\n",
        "y_val = y_train[:10000]\n",
        "partial_y_train = y_train[10000:]"
      ],
      "execution_count": 0,
      "outputs": []
    },
    {
      "cell_type": "code",
      "metadata": {
        "id": "jjIIhCL6fpKQ",
        "colab_type": "code",
        "outputId": "c758004b-1e36-4e12-bc01-812b516281fa",
        "colab": {
          "base_uri": "https://localhost:8080/",
          "height": 463
        }
      },
      "source": [
        "model_test1 = model.fit(partial_x_train,\n",
        "                   partial_y_train,\n",
        "                   epochs=10,\n",
        "                   batch_size=512,\n",
        "                   validation_data=(x_val, y_val))"
      ],
      "execution_count": 0,
      "outputs": [
        {
          "output_type": "stream",
          "text": [
            "WARNING:tensorflow:From /usr/local/lib/python3.6/dist-packages/tensorflow/python/ops/math_ops.py:3066: to_int32 (from tensorflow.python.ops.math_ops) is deprecated and will be removed in a future version.\n",
            "Instructions for updating:\n",
            "Use tf.cast instead.\n",
            "Train on 15000 samples, validate on 10000 samples\n",
            "Epoch 1/10\n",
            "15000/15000 [==============================] - 3s 176us/step - loss: 0.4826 - acc: 0.7865 - val_loss: 0.3436 - val_acc: 0.8773\n",
            "Epoch 2/10\n",
            "15000/15000 [==============================] - 2s 112us/step - loss: 0.2778 - acc: 0.9014 - val_loss: 0.2883 - val_acc: 0.8906\n",
            "Epoch 3/10\n",
            "15000/15000 [==============================] - 2s 113us/step - loss: 0.1982 - acc: 0.9313 - val_loss: 0.3475 - val_acc: 0.8572\n",
            "Epoch 4/10\n",
            "15000/15000 [==============================] - 2s 113us/step - loss: 0.1600 - acc: 0.9441 - val_loss: 0.2956 - val_acc: 0.8821\n",
            "Epoch 5/10\n",
            "15000/15000 [==============================] - 2s 113us/step - loss: 0.1264 - acc: 0.9578 - val_loss: 0.2958 - val_acc: 0.8851\n",
            "Epoch 6/10\n",
            "15000/15000 [==============================] - 2s 113us/step - loss: 0.0970 - acc: 0.9692 - val_loss: 0.3296 - val_acc: 0.8805\n",
            "Epoch 7/10\n",
            "15000/15000 [==============================] - 2s 113us/step - loss: 0.0835 - acc: 0.9723 - val_loss: 0.3398 - val_acc: 0.8810\n",
            "Epoch 8/10\n",
            "15000/15000 [==============================] - 2s 113us/step - loss: 0.0606 - acc: 0.9824 - val_loss: 0.4104 - val_acc: 0.8681\n",
            "Epoch 9/10\n",
            "15000/15000 [==============================] - 2s 113us/step - loss: 0.0443 - acc: 0.9883 - val_loss: 0.4464 - val_acc: 0.8652\n",
            "Epoch 10/10\n",
            "15000/15000 [==============================] - 2s 113us/step - loss: 0.0442 - acc: 0.9873 - val_loss: 0.4379 - val_acc: 0.8777\n"
          ],
          "name": "stdout"
        }
      ]
    },
    {
      "cell_type": "code",
      "metadata": {
        "id": "uRBwOoSqf1H4",
        "colab_type": "code",
        "outputId": "70d44634-ea37-479b-8cd4-89c5f65eba33",
        "colab": {
          "base_uri": "https://localhost:8080/",
          "height": 72
        }
      },
      "source": [
        "history_dict = model_test1.history\n",
        "history_dict.keys()\n",
        "[u'acc', u'loss' , u'val_acc', u'val_loss']\n",
        "print(history_dict['acc'])\n",
        "print(history_dict['val_acc'])"
      ],
      "execution_count": 0,
      "outputs": [
        {
          "output_type": "stream",
          "text": [
            "[0.7864666665712993, 0.9014000002861023, 0.9312666667620341, 0.9441333332061768, 0.9577999997138977, 0.9691999998092652, 0.9722666668256124, 0.9823999997138977, 0.9882666664759318, 0.9872666664759318]\n",
            "[0.8773000001907348, 0.8906000000953674, 0.8571999998092651, 0.8821000001907349, 0.8851000003814697, 0.8804999999046326, 0.8810000000953674, 0.8680999998092651, 0.8651999998092651, 0.8777000000953674]\n"
          ],
          "name": "stdout"
        }
      ]
    },
    {
      "cell_type": "code",
      "metadata": {
        "id": "vFUDrnrlf37B",
        "colab_type": "code",
        "outputId": "ceea6df8-a753-4132-9e1e-5cfe4e8c2962",
        "colab": {
          "base_uri": "https://localhost:8080/",
          "height": 294
        }
      },
      "source": [
        "import matplotlib.pyplot as plt\n",
        "\n",
        "loss_values = history_dict['loss']\n",
        "val_loss_values = history_dict['val_loss']\n",
        "\n",
        "epochs= range(1, len(loss_values) + 1)\n",
        "\n",
        "plt.plot(epochs, loss_values, 'bo' , label='Training loss')\n",
        "plt.plot(epochs, val_loss_values, 'b' , label='Validation loss')\n",
        "plt.title('Training and validation loss')\n",
        "plt.xlabel('Epochs')\n",
        "plt.ylabel('loss')\n",
        "plt.legend()\n",
        "\n",
        "plt.show()"
      ],
      "execution_count": 0,
      "outputs": [
        {
          "output_type": "display_data",
          "data": {
            "image/png": "[encoded data removed]",
            "text/plain": [
              "<Figure size 432x288 with 1 Axes>"
            ]
          },
          "metadata": {
            "tags": []
          }
        }
      ]
    },
    {
      "cell_type": "code",
      "metadata": {
        "id": "1P5aS6VRaYAi",
        "colab_type": "code",
        "outputId": "ce63a659-c4f6-41f3-f4dc-e4e83511c2f1",
        "colab": {
          "base_uri": "https://localhost:8080/",
          "height": 52
        }
      },
      "source": [
        "results=model.evaluate(x_test,y_test)\n",
        "results"
      ],
      "execution_count": 0,
      "outputs": [
        {
          "output_type": "stream",
          "text": [
            "25000/25000 [==============================] - 2s 81us/step\n"
          ],
          "name": "stdout"
        },
        {
          "output_type": "execute_result",
          "data": {
            "text/plain": [
              "[0.48082842883586885, 0.86172]"
            ]
          },
          "metadata": {
            "tags": []
          },
          "execution_count": 13
        }
      ]
    },
    {
      "cell_type": "code",
      "metadata": {
        "id": "hLjUq8x6bJ6q",
        "colab_type": "code",
        "outputId": "5858e2e6-1d7e-4fa0-c951-7e14f9f7e90a",
        "colab": {
          "base_uri": "https://localhost:8080/",
          "height": 390
        }
      },
      "source": [
        "\n",
        "from keras import regularizers\n",
        "model2 = models.Sequential()\n",
        "model2.add(layers.Dense(32, kernel_regularizer=regularizers.l2(0.001) , activation='relu', input_shape=(10000,)))\n",
        "model2.add(layers.Dense(32, kernel_regularizer=regularizers.l2(0.001) , activation='relu'))\n",
        "model2.add(layers.Dense(1, activation='sigmoid'))\n",
        "model2.compile(optimizer='rmsprop',\n",
        "             loss='binary_crossentropy',\n",
        "             metrics=['accuracy'])\n",
        "model2_test = model2.fit(partial_x_train,\n",
        "                   partial_y_train,\n",
        "                   epochs=10,\n",
        "                   batch_size=512,\n",
        "                   validation_data=(x_val, y_val)\n",
        "                   )"
      ],
      "execution_count": 0,
      "outputs": [
        {
          "output_type": "stream",
          "text": [
            "Train on 15000 samples, validate on 10000 samples\n",
            "Epoch 1/10\n",
            "15000/15000 [==============================] - 2s 118us/step - loss: 0.5671 - acc: 0.7761 - val_loss: 0.4263 - val_acc: 0.8623\n",
            "Epoch 2/10\n",
            "15000/15000 [==============================] - 2s 111us/step - loss: 0.3548 - acc: 0.8985 - val_loss: 0.3765 - val_acc: 0.8750\n",
            "Epoch 3/10\n",
            "15000/15000 [==============================] - 2s 115us/step - loss: 0.2910 - acc: 0.9199 - val_loss: 0.3735 - val_acc: 0.8762\n",
            "Epoch 4/10\n",
            "15000/15000 [==============================] - 2s 116us/step - loss: 0.2524 - acc: 0.9377 - val_loss: 0.3449 - val_acc: 0.8878\n",
            "Epoch 5/10\n",
            "15000/15000 [==============================] - 2s 114us/step - loss: 0.2410 - acc: 0.9370 - val_loss: 0.3499 - val_acc: 0.8858\n",
            "Epoch 6/10\n",
            "15000/15000 [==============================] - 2s 114us/step - loss: 0.2255 - acc: 0.9449 - val_loss: 0.3697 - val_acc: 0.8821\n",
            "Epoch 7/10\n",
            "15000/15000 [==============================] - 2s 114us/step - loss: 0.2115 - acc: 0.9507 - val_loss: 0.3927 - val_acc: 0.8709\n",
            "Epoch 8/10\n",
            "15000/15000 [==============================] - 2s 114us/step - loss: 0.2024 - acc: 0.9540 - val_loss: 0.3741 - val_acc: 0.8820\n",
            "Epoch 9/10\n",
            "15000/15000 [==============================] - 2s 114us/step - loss: 0.1913 - acc: 0.9573 - val_loss: 0.4798 - val_acc: 0.8472\n",
            "Epoch 10/10\n",
            "15000/15000 [==============================] - 2s 119us/step - loss: 0.1862 - acc: 0.9617 - val_loss: 0.4004 - val_acc: 0.8784\n"
          ],
          "name": "stdout"
        }
      ]
    },
    {
      "cell_type": "code",
      "metadata": {
        "id": "qcfFJiAF1CbV",
        "colab_type": "code",
        "outputId": "2b64cca3-7f0f-49a6-8ee0-6d9c4125f2e3",
        "colab": {
          "base_uri": "https://localhost:8080/",
          "height": 294
        }
      },
      "source": [
        "history_dict = model2_test.history\n",
        "history_dict.keys()\n",
        "[u'acc', u'loss' , u'val_acc', u'val_loss']\n",
        "\n",
        "import matplotlib.pyplot as plt\n",
        "\n",
        "loss_values = history_dict['loss']\n",
        "val_loss_values = history_dict['val_loss']\n",
        "\n",
        "epochs= range(1, len(loss_values) + 1)\n",
        "\n",
        "plt.plot(epochs, loss_values, 'bo' , label='Training loss')\n",
        "plt.plot(epochs, val_loss_values, 'b' , label='Validation loss')\n",
        "plt.title('Training and validation loss')\n",
        "plt.xlabel('Epochs')\n",
        "plt.ylabel('loss')\n",
        "plt.legend()\n",
        "\n",
        "plt.show()"
      ],
      "execution_count": 0,
      "outputs": [
        {
          "output_type": "display_data",
          "data": {
            "image/png": "[encoded data removed]",
            "text/plain": [
              "<Figure size 432x288 with 1 Axes>"
            ]
          },
          "metadata": {
            "tags": []
          }
        }
      ]
    },
    {
      "cell_type": "code",
      "metadata": {
        "id": "QN1-Lg541bNq",
        "colab_type": "code",
        "outputId": "8761a57e-45bf-48b5-a39d-2be4125f442b",
        "colab": {
          "base_uri": "https://localhost:8080/",
          "height": 176
        }
      },
      "source": [
        "model2.fit(x_train,\n",
        "                   y_train,\n",
        "                   epochs=4,\n",
        "                   batch_size=512\n",
        "                   )"
      ],
      "execution_count": 0,
      "outputs": [
        {
          "output_type": "stream",
          "text": [
            "Epoch 1/4\n",
            "25000/25000 [==============================] - 2s 70us/step - loss: 0.2743 - acc: 0.9250\n",
            "Epoch 2/4\n",
            "25000/25000 [==============================] - 2s 71us/step - loss: 0.2419 - acc: 0.9326\n",
            "Epoch 3/4\n",
            "25000/25000 [==============================] - 2s 72us/step - loss: 0.2301 - acc: 0.9395\n",
            "Epoch 4/4\n",
            "25000/25000 [==============================] - 2s 71us/step - loss: 0.2237 - acc: 0.9420\n"
          ],
          "name": "stdout"
        },
        {
          "output_type": "execute_result",
          "data": {
            "text/plain": [
              "<keras.callbacks.History at 0x7f62a2f4f0b8>"
            ]
          },
          "metadata": {
            "tags": []
          },
          "execution_count": 16
        }
      ]
    },
    {
      "cell_type": "code",
      "metadata": {
        "id": "Y-KIGK4mdF1s",
        "colab_type": "code",
        "outputId": "bb102ffa-dbea-419f-e42a-3193abf7ed79",
        "colab": {
          "base_uri": "https://localhost:8080/",
          "height": 52
        }
      },
      "source": [
        "results=model2.evaluate(x_test,y_test)\n",
        "results"
      ],
      "execution_count": 0,
      "outputs": [
        {
          "output_type": "stream",
          "text": [
            "25000/25000 [==============================] - 2s 82us/step\n"
          ],
          "name": "stdout"
        },
        {
          "output_type": "execute_result",
          "data": {
            "text/plain": [
              "[0.470287821598053, 0.85336]"
            ]
          },
          "metadata": {
            "tags": []
          },
          "execution_count": 17
        }
      ]
    },
    {
      "cell_type": "code",
      "metadata": {
        "id": "MRTT_Jrtdk4l",
        "colab_type": "code",
        "outputId": "e3327efb-a106-432f-9281-244f72635bbc",
        "colab": {
          "base_uri": "https://localhost:8080/",
          "height": 463
        }
      },
      "source": [
        "from keras import regularizers\n",
        "model3 = models.Sequential()\n",
        "model3.add(layers.Dense(32, kernel_regularizer=regularizers.l2(0.001) , activation='relu', input_shape=(10000,)))\n",
        "model3.add(layers.Dropout(0.5))\n",
        "model3.add(layers.Dense(32, kernel_regularizer=regularizers.l2(0.001) , activation='relu'))\n",
        "model3.add(layers.Dropout(0.5))\n",
        "model3.add(layers.Dense(1, activation='sigmoid'))\n",
        "model3.compile(optimizer='rmsprop',\n",
        "             loss='binary_crossentropy',\n",
        "             metrics=['accuracy'])\n",
        "model3_test = model3.fit(partial_x_train,\n",
        "                   partial_y_train,\n",
        "                   epochs=10,\n",
        "                   batch_size=512,\n",
        "                   validation_data=(x_val, y_val)\n",
        "                   )\n"
      ],
      "execution_count": 0,
      "outputs": [
        {
          "output_type": "stream",
          "text": [
            "WARNING:tensorflow:From /usr/local/lib/python3.6/dist-packages/keras/backend/tensorflow_backend.py:3445: calling dropout (from tensorflow.python.ops.nn_ops) with keep_prob is deprecated and will be removed in a future version.\n",
            "Instructions for updating:\n",
            "Please use `rate` instead of `keep_prob`. Rate should be set to `rate = 1 - keep_prob`.\n",
            "Train on 15000 samples, validate on 10000 samples\n",
            "Epoch 1/10\n",
            "15000/15000 [==============================] - 2s 127us/step - loss: 0.6646 - acc: 0.6835 - val_loss: 0.4872 - val_acc: 0.8571\n",
            "Epoch 2/10\n",
            "15000/15000 [==============================] - 2s 114us/step - loss: 0.4886 - acc: 0.8271 - val_loss: 0.3870 - val_acc: 0.8825\n",
            "Epoch 3/10\n",
            "15000/15000 [==============================] - 2s 115us/step - loss: 0.3952 - acc: 0.8733 - val_loss: 0.3538 - val_acc: 0.8836\n",
            "Epoch 4/10\n",
            "15000/15000 [==============================] - 2s 115us/step - loss: 0.3443 - acc: 0.9021 - val_loss: 0.3537 - val_acc: 0.8811\n",
            "Epoch 5/10\n",
            "15000/15000 [==============================] - 2s 115us/step - loss: 0.3018 - acc: 0.9163 - val_loss: 0.3518 - val_acc: 0.8837\n",
            "Epoch 6/10\n",
            "15000/15000 [==============================] - 2s 115us/step - loss: 0.2742 - acc: 0.9275 - val_loss: 0.3560 - val_acc: 0.8859\n",
            "Epoch 7/10\n",
            "15000/15000 [==============================] - 2s 115us/step - loss: 0.2589 - acc: 0.9342 - val_loss: 0.3630 - val_acc: 0.8868\n",
            "Epoch 8/10\n",
            "15000/15000 [==============================] - 2s 115us/step - loss: 0.2375 - acc: 0.9412 - val_loss: 0.3712 - val_acc: 0.8858\n",
            "Epoch 9/10\n",
            "15000/15000 [==============================] - 2s 116us/step - loss: 0.2227 - acc: 0.9488 - val_loss: 0.3991 - val_acc: 0.8744\n",
            "Epoch 10/10\n",
            "15000/15000 [==============================] - 2s 118us/step - loss: 0.2194 - acc: 0.9501 - val_loss: 0.3772 - val_acc: 0.8829\n"
          ],
          "name": "stdout"
        }
      ]
    },
    {
      "cell_type": "code",
      "metadata": {
        "id": "iRlwLRlLkiZE",
        "colab_type": "code",
        "outputId": "3acbb42a-ea2c-4317-9458-6da9498ead35",
        "colab": {
          "base_uri": "https://localhost:8080/",
          "height": 34
        }
      },
      "source": [
        "history_dict = model3_test.history\n",
        "history_dict.keys()\n",
        "[u'acc', u'loss' , u'val_acc', u'val_loss']\n"
      ],
      "execution_count": 0,
      "outputs": [
        {
          "output_type": "execute_result",
          "data": {
            "text/plain": [
              "['acc', 'loss', 'val_acc', 'val_loss']"
            ]
          },
          "metadata": {
            "tags": []
          },
          "execution_count": 19
        }
      ]
    },
    {
      "cell_type": "code",
      "metadata": {
        "id": "2iXWJliHlvfm",
        "colab_type": "code",
        "outputId": "60fc2192-0854-47f8-dab6-56df521d3d09",
        "colab": {
          "base_uri": "https://localhost:8080/",
          "height": 294
        }
      },
      "source": [
        "import matplotlib.pyplot as plt\n",
        "\n",
        "loss_values = history_dict['loss']\n",
        "val_loss_values = history_dict['val_loss']\n",
        "\n",
        "epochs= range(1, len(loss_values) + 1)\n",
        "\n",
        "plt.plot(epochs, loss_values, 'bo' , label='Training loss')\n",
        "plt.plot(epochs, val_loss_values, 'b' , label='Validation loss')\n",
        "plt.title('Training and validation loss')\n",
        "plt.xlabel('Epochs')\n",
        "plt.ylabel('loss')\n",
        "plt.legend()\n",
        "\n",
        "plt.show()"
      ],
      "execution_count": 0,
      "outputs": [
        {
          "output_type": "display_data",
          "data": {
            "image/png": "[encoded data removed]",
            "text/plain": [
              "<Figure size 432x288 with 1 Axes>"
            ]
          },
          "metadata": {
            "tags": []
          }
        }
      ]
    },
    {
      "cell_type": "code",
      "metadata": {
        "id": "G3qU68QDwhAG",
        "colab_type": "code",
        "outputId": "2c14ba88-9a13-4093-939b-015b0a4aa2f0",
        "colab": {
          "base_uri": "https://localhost:8080/",
          "height": 123
        }
      },
      "source": [
        "model4_test = model3.fit(x_train,\n",
        "                   y_train,\n",
        "                   epochs=3,\n",
        "                   batch_size=512\n",
        "                        )"
      ],
      "execution_count": 0,
      "outputs": [
        {
          "output_type": "stream",
          "text": [
            "Epoch 1/3\n",
            "25000/25000 [==============================] - 2s 74us/step - loss: 0.2349 - acc: 0.9424\n",
            "Epoch 2/3\n",
            "25000/25000 [==============================] - 2s 72us/step - loss: 0.2351 - acc: 0.9421\n",
            "Epoch 3/3\n",
            "25000/25000 [==============================] - 2s 73us/step - loss: 0.2278 - acc: 0.9464\n"
          ],
          "name": "stdout"
        }
      ]
    },
    {
      "cell_type": "code",
      "metadata": {
        "id": "2m8gR4ajvwCi",
        "colab_type": "code",
        "outputId": "478fbf8f-c99d-42b5-83fc-3f59f7626235",
        "colab": {
          "base_uri": "https://localhost:8080/",
          "height": 52
        }
      },
      "source": [
        "results=model3.evaluate(x_train,y_train)\n",
        "results"
      ],
      "execution_count": 0,
      "outputs": [
        {
          "output_type": "stream",
          "text": [
            "25000/25000 [==============================] - 2s 83us/step\n"
          ],
          "name": "stdout"
        },
        {
          "output_type": "execute_result",
          "data": {
            "text/plain": [
              "[0.16547918007612228, 0.97248]"
            ]
          },
          "metadata": {
            "tags": []
          },
          "execution_count": 24
        }
      ]
    },
    {
      "cell_type": "code",
      "metadata": {
        "id": "SCh09IYa4P4-",
        "colab_type": "code",
        "outputId": "76896e1e-0edf-41d8-83be-d2167a77a3a5",
        "colab": {
          "base_uri": "https://localhost:8080/",
          "height": 34
        }
      },
      "source": [
        "x_train[0]"
      ],
      "execution_count": 0,
      "outputs": [
        {
          "output_type": "execute_result",
          "data": {
            "text/plain": [
              "array([0., 1., 1., ..., 0., 0., 0.])"
            ]
          },
          "metadata": {
            "tags": []
          },
          "execution_count": 30
        }
      ]
    },
    {
      "cell_type": "code",
      "metadata": {
        "id": "Ng1IFJsrwucu",
        "colab_type": "code",
        "outputId": "cea39d29-8d2f-4fd0-f800-e4223127d4d3",
        "colab": {
          "base_uri": "https://localhost:8080/",
          "height": 105
        }
      },
      "source": [
        "text=input()\n",
        "encode_data=encode_imdb(text,word_index)\n",
        "data_to_predict=vectorize_sequences(encode_data)\n",
        "data_to_predict\n"
      ],
      "execution_count": 0,
      "outputs": [
        {
          "output_type": "stream",
          "text": [
            "i hate this movie\n"
          ],
          "name": "stdout"
        },
        {
          "output_type": "execute_result",
          "data": {
            "text/plain": [
              "array([[0., 0., 0., ..., 0., 0., 0.],\n",
              "       [0., 0., 0., ..., 0., 0., 0.],\n",
              "       [0., 0., 0., ..., 0., 0., 0.],\n",
              "       [0., 0., 0., ..., 0., 0., 0.]])"
            ]
          },
          "metadata": {
            "tags": []
          },
          "execution_count": 32
        }
      ]
    },
    {
      "cell_type": "code",
      "metadata": {
        "id": "Ir12WQBn3dOl",
        "colab_type": "code",
        "colab": {}
      },
      "source": [
        ""
      ],
      "execution_count": 0,
      "outputs": []
    }
  ]
}