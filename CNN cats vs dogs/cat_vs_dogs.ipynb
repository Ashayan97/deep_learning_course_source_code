{
 "cells": [
  {
   "cell_type": "code",
   "execution_count": 1,
   "metadata": {},
   "outputs": [],
   "source": [
    "import os , shutil\n",
    "base_dir = \"/home/shayan/Conda files/Deep learning/CNN cats vs dogs/\"\n",
    "original_dataset_dir = \"/home/shayan/Conda files/Deep learning/Data\""
   ]
  },
  {
   "cell_type": "code",
   "execution_count": 2,
   "metadata": {},
   "outputs": [],
   "source": [
    "train_dir= os.path.join(base_dir,'train')\n",
    "# os.mkdir(train_dir)\n",
    "\n",
    "validation_dir=os.path.join(base_dir,'validation')\n",
    "# os.mkdir(validation_dir)\n",
    "\n",
    "test_dir=os.path.join(base_dir,'test')\n",
    "# os.mkdir(test_dir)"
   ]
  },
  {
   "cell_type": "code",
   "execution_count": 3,
   "metadata": {},
   "outputs": [],
   "source": [
    "train_cats_dir = os.path.join(train_dir,'cats')\n",
    "# os.mkdir(train_cats_dir)\n",
    "\n",
    "validation_cats_dir=os.path.join(validation_dir,'cats')\n",
    "# os.mkdir(validation_cats_dir)\n",
    "\n",
    "test_cats_dir = os.path.join(test_dir,'cat')\n",
    "# os.mkdir(test_cats_dir)\n"
   ]
  },
  {
   "cell_type": "code",
   "execution_count": 4,
   "metadata": {},
   "outputs": [],
   "source": [
    "train_dogs_dir = os.path.join(train_dir,'dogs')\n",
    "# os.mkdir(train_dogs_dir)\n",
    "\n",
    "validation_dogs_dir=os.path.join(validation_dir,'dogs')\n",
    "# os.mkdir(validation_dogs_dir)\n",
    "\n",
    "test_dogs_dir = os.path.join(test_dir,'dogs')\n",
    "# os.mkdir(test_dogs_dir)\n"
   ]
  },
  {
   "cell_type": "code",
   "execution_count": null,
   "metadata": {},
   "outputs": [],
   "source": [
    "fnames = ['cat.{}.jpg'.format(i) for i in range(1000)]\n",
    "for fname in fnames:\n",
    "    src = os.path.join(original_dataset_dir,fname)\n",
    "    dst=os.path.join(train_cats_dir,fname)\n",
    "    shutil.copyfile(src,dst)\n",
    "    \n",
    "fnames = ['cat.{}.jpg'.format(i) for i in range(1000,1500)]\n",
    "for fname in fnames:\n",
    "    src = os.path.join(original_dataset_dir,fname)\n",
    "    dst=os.path.join(validation_cats_dir,fname)\n",
    "    shutil.copyfile(src,dst)\n",
    "\n",
    "fnames = ['cat.{}.jpg'.format(i) for i in range(1500,2000)]\n",
    "for fname in fnames:\n",
    "    src = os.path.join(original_dataset_dir,fname)\n",
    "    dst=os.path.join(test_cats_dir,fname)\n",
    "    shutil.copyfile(src,dst)"
   ]
  },
  {
   "cell_type": "code",
   "execution_count": null,
   "metadata": {},
   "outputs": [],
   "source": [
    "fnames = ['dog.{}.jpg'.format(i) for i in range(1000)]\n",
    "for fname in fnames:\n",
    "    src = os.path.join(original_dataset_dir,fname)\n",
    "    dst=os.path.join(train_dogs_dir,fname)\n",
    "    shutil.copyfile(src,dst)\n",
    "    \n",
    "fnames = ['dog.{}.jpg'.format(i) for i in range(1000,1500)]\n",
    "for fname in fnames:\n",
    "    src = os.path.join(original_dataset_dir,fname)\n",
    "    dst=os.path.join(validation_dogs_dir,fname)\n",
    "    shutil.copyfile(src,dst)\n",
    "\n",
    "fnames = ['dog.{}.jpg'.format(i) for i in range(1500,2000)]\n",
    "for fname in fnames:\n",
    "    src = os.path.join(original_dataset_dir,fname)\n",
    "    dst=os.path.join(test_dogs_dir,fname)\n",
    "    shutil.copyfile(src,dst)"
   ]
  },
  {
   "cell_type": "code",
   "execution_count": 5,
   "metadata": {},
   "outputs": [
    {
     "name": "stdout",
     "output_type": "stream",
     "text": [
      "total training cat images: 1000\n",
      "total test cat images: 500\n",
      "total validation cat images: 500\n",
      "total training dog images: 1000\n",
      "total test dog images: 500\n",
      "total validation dog images: 500\n"
     ]
    }
   ],
   "source": [
    "print('total training cat images:',len(os.listdir(train_cats_dir)))\n",
    "print('total test cat images:',len(os.listdir(test_cats_dir)))\n",
    "print('total validation cat images:',len(os.listdir(validation_cats_dir)))\n",
    "print('total training dog images:',len(os.listdir(train_dogs_dir)))\n",
    "print('total test dog images:',len(os.listdir(test_dogs_dir)))\n",
    "print('total validation dog images:',len(os.listdir(validation_dogs_dir)))"
   ]
  },
  {
   "cell_type": "code",
   "execution_count": 6,
   "metadata": {},
   "outputs": [],
   "source": [
    "from tensorflow.keras import layers\n",
    "from tensorflow.keras import models\n",
    "\n",
    "model = models.Sequential()\n",
    "model.add(layers.Conv2D(32, (3,3),activation='relu',input_shape=(150,150,3)))\n",
    "model.add(layers.MaxPooling2D((2,2)))\n",
    "model.add(layers.Conv2D(64, (3,3),activation='relu'))\n",
    "model.add(layers.MaxPooling2D((2,2)))\n",
    "model.add(layers.Conv2D(128, (3,3),activation='relu'))\n",
    "model.add(layers.MaxPooling2D((2,2)))\n",
    "model.add(layers.Conv2D(128, (3,3),activation='relu'))\n",
    "model.add(layers.MaxPooling2D((2,2)))\n",
    "model.add(layers.Flatten())\n",
    "model.add(layers.Dense(512, activation='relu'))\n",
    "model.add(layers.Dense(1, activation='sigmoid'))\n"
   ]
  },
  {
   "cell_type": "code",
   "execution_count": 7,
   "metadata": {},
   "outputs": [],
   "source": [
    "from tensorflow.keras import optimizers\n",
    "\n",
    "model.compile(loss='binary_crossentropy',\n",
    "             optimizer=optimizers.RMSprop(lr=1e-4),\n",
    "             metrics=['acc'])"
   ]
  },
  {
   "cell_type": "code",
   "execution_count": 8,
   "metadata": {},
   "outputs": [
    {
     "name": "stdout",
     "output_type": "stream",
     "text": [
      "Found 2000 images belonging to 2 classes.\n",
      "Found 1000 images belonging to 2 classes.\n"
     ]
    }
   ],
   "source": [
    "from tensorflow.keras.preprocessing.image import ImageDataGenerator\n",
    "\n",
    "train_datagen = ImageDataGenerator(rescale=1./255)\n",
    "test_datagen = ImageDataGenerator(rescale=1./255)\n",
    "validation_datagen = ImageDataGenerator(rescale=1./255)\n",
    "\n",
    "\n",
    "train_generator = train_datagen.flow_from_directory(\n",
    "    train_dir,\n",
    "    target_size=(150,150),\n",
    "    batch_size=20,\n",
    "    class_mode='binary')\n",
    "\n",
    "validation_generator = validation_datagen.flow_from_directory(\n",
    "    validation_dir,\n",
    "    target_size=(150,150),\n",
    "    batch_size=20,\n",
    "    class_mode='binary')"
   ]
  },
  {
   "cell_type": "code",
   "execution_count": 9,
   "metadata": {},
   "outputs": [
    {
     "name": "stdout",
     "output_type": "stream",
     "text": [
      "data batch sahpe: (20, 150, 150, 3)\n",
      "labels batch shape: (20,)\n"
     ]
    }
   ],
   "source": [
    "for data_batch, labels_batch in train_generator:\n",
    "    print('data batch sahpe:', data_batch.shape)\n",
    "    print('labels batch shape:', labels_batch.shape)\n",
    "    break\n"
   ]
  },
  {
   "cell_type": "code",
   "execution_count": null,
   "metadata": {},
   "outputs": [
    {
     "name": "stdout",
     "output_type": "stream",
     "text": [
      "WARNING:tensorflow:From <ipython-input-10-926c1da02a77>:6: Model.fit_generator (from tensorflow.python.keras.engine.training) is deprecated and will be removed in a future version.\n",
      "Instructions for updating:\n",
      "Please use Model.fit, which supports generators.\n",
      "Epoch 1/30\n",
      "100/100 [==============================] - 118s 1s/step - loss: 0.6798 - acc: 0.5595 - val_loss: 0.6565 - val_acc: 0.6400\n",
      "Epoch 2/30\n",
      "100/100 [==============================] - 122s 1s/step - loss: 0.6486 - acc: 0.6185 - val_loss: 0.6144 - val_acc: 0.6710\n",
      "Epoch 3/30\n",
      "100/100 [==============================] - 122s 1s/step - loss: 0.5993 - acc: 0.6745 - val_loss: 0.5923 - val_acc: 0.6650\n",
      "Epoch 4/30\n",
      "100/100 [==============================] - 122s 1s/step - loss: 0.5700 - acc: 0.6985 - val_loss: 0.6178 - val_acc: 0.6630\n",
      "Epoch 5/30\n",
      "100/100 [==============================] - 129s 1s/step - loss: 0.5517 - acc: 0.7190 - val_loss: 0.5732 - val_acc: 0.7050\n",
      "Epoch 6/30\n",
      "100/100 [==============================] - 124s 1s/step - loss: 0.5350 - acc: 0.7300 - val_loss: 0.5714 - val_acc: 0.6960\n",
      "Epoch 7/30\n",
      "100/100 [==============================] - 125s 1s/step - loss: 0.5188 - acc: 0.7410 - val_loss: 0.5878 - val_acc: 0.6830\n",
      "Epoch 8/30\n",
      "100/100 [==============================] - 128s 1s/step - loss: 0.5069 - acc: 0.7440 - val_loss: 0.5591 - val_acc: 0.7020\n",
      "Epoch 9/30\n",
      "100/100 [==============================] - 127s 1s/step - loss: 0.4871 - acc: 0.7650 - val_loss: 0.5436 - val_acc: 0.7240\n",
      "Epoch 10/30\n",
      "100/100 [==============================] - 132s 1s/step - loss: 0.4761 - acc: 0.7780 - val_loss: 0.5392 - val_acc: 0.7190\n",
      "Epoch 11/30\n",
      "100/100 [==============================] - 129s 1s/step - loss: 0.4636 - acc: 0.7695 - val_loss: 0.5649 - val_acc: 0.7160\n",
      "Epoch 12/30\n",
      "100/100 [==============================] - 127s 1s/step - loss: 0.4490 - acc: 0.7875 - val_loss: 0.5208 - val_acc: 0.7270\n",
      "Epoch 13/30\n",
      "100/100 [==============================] - 128s 1s/step - loss: 0.4302 - acc: 0.8035 - val_loss: 0.5340 - val_acc: 0.7390\n",
      "Epoch 14/30\n",
      "100/100 [==============================] - 122s 1s/step - loss: 0.4253 - acc: 0.8155 - val_loss: 0.5113 - val_acc: 0.7460\n",
      "Epoch 15/30\n",
      "100/100 [==============================] - 114s 1s/step - loss: 0.4123 - acc: 0.8105 - val_loss: 0.5902 - val_acc: 0.7090\n",
      "Epoch 16/30\n",
      "100/100 [==============================] - 119s 1s/step - loss: 0.3896 - acc: 0.8210 - val_loss: 0.5227 - val_acc: 0.7530\n",
      "Epoch 17/30\n",
      "100/100 [==============================] - 115s 1s/step - loss: 0.3790 - acc: 0.8310 - val_loss: 0.5665 - val_acc: 0.7250\n",
      "Epoch 18/30\n",
      "100/100 [==============================] - 121s 1s/step - loss: 0.3701 - acc: 0.8450 - val_loss: 0.5162 - val_acc: 0.7490\n",
      "Epoch 19/30\n",
      "100/100 [==============================] - 117s 1s/step - loss: 0.3575 - acc: 0.8550 - val_loss: 0.5394 - val_acc: 0.7490\n",
      "Epoch 20/30\n",
      "100/100 [==============================] - 119s 1s/step - loss: 0.3488 - acc: 0.8425 - val_loss: 0.6086 - val_acc: 0.7150\n",
      "Epoch 21/30\n",
      "100/100 [==============================] - 119s 1s/step - loss: 0.3334 - acc: 0.8560 - val_loss: 0.5558 - val_acc: 0.7430\n",
      "Epoch 22/30\n",
      "100/100 [==============================] - 126s 1s/step - loss: 0.3181 - acc: 0.8525 - val_loss: 0.5734 - val_acc: 0.7450\n",
      "Epoch 23/30\n",
      "100/100 [==============================] - 125s 1s/step - loss: 0.3028 - acc: 0.8610 - val_loss: 0.5766 - val_acc: 0.7300\n",
      "Epoch 24/30\n",
      "100/100 [==============================] - 125s 1s/step - loss: 0.2945 - acc: 0.8735 - val_loss: 0.7886 - val_acc: 0.6920\n",
      "Epoch 25/30\n",
      "100/100 [==============================] - 122s 1s/step - loss: 0.2754 - acc: 0.8905 - val_loss: 0.6719 - val_acc: 0.7230\n",
      "Epoch 26/30\n",
      "100/100 [==============================] - 135s 1s/step - loss: 0.2686 - acc: 0.8790 - val_loss: 0.6511 - val_acc: 0.7310\n",
      "Epoch 27/30\n",
      "100/100 [==============================] - 130s 1s/step - loss: 0.2584 - acc: 0.8905 - val_loss: 0.6158 - val_acc: 0.7290\n",
      "Epoch 28/30\n",
      "100/100 [==============================] - 112s 1s/step - loss: 0.2432 - acc: 0.9030 - val_loss: 0.6453 - val_acc: 0.7250\n",
      "Epoch 29/30\n",
      "100/100 [==============================] - 108s 1s/step - loss: 0.2289 - acc: 0.9020 - val_loss: 0.6387 - val_acc: 0.7320\n",
      "Epoch 30/30\n",
      " 71/100 [====================>.........] - ETA: 32s - loss: 0.2161 - acc: 0.9106"
     ]
    }
   ],
   "source": [
    "history = model.fit_generator(\n",
    "    train_generator,\n",
    "    steps_per_epoch=100,\n",
    "    epochs=30,\n",
    "    validation_data = validation_generator,\n",
    "    validation_steps=50\n",
    ")"
   ]
  },
  {
   "cell_type": "code",
   "execution_count": null,
   "metadata": {},
   "outputs": [],
   "source": [
    "model.save('cats_and_dogs_small_1.h5')"
   ]
  }
 ],
 "metadata": {
  "kernelspec": {
   "display_name": "Python 3",
   "language": "python",
   "name": "python3"
  },
  "language_info": {
   "codemirror_mode": {
    "name": "ipython",
    "version": 3
   },
   "file_extension": ".py",
   "mimetype": "text/x-python",
   "name": "python",
   "nbconvert_exporter": "python",
   "pygments_lexer": "ipython3",
   "version": "3.7.6"
  }
 },
 "nbformat": 4,
 "nbformat_minor": 4
}
