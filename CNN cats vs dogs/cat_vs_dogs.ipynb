{
 "cells": [
  {
   "cell_type": "code",
   "execution_count": 1,
   "metadata": {},
   "outputs": [],
   "source": [
    "import os , shutil\n",
    "base_dir = \"/home/shayan/Conda files/Deep learning/CNN cats vs dogs/\"\n",
    "original_dataset_dir = \"/home/shayan/Conda files/Deep learning/Data\""
   ]
  },
  {
   "cell_type": "code",
   "execution_count": 2,
   "metadata": {},
   "outputs": [],
   "source": [
    "train_dir= os.path.join(base_dir,'train')\n",
    "# os.mkdir(train_dir)\n",
    "\n",
    "validation_dir=os.path.join(base_dir,'validation')\n",
    "# os.mkdir(validation_dir)\n",
    "\n",
    "test_dir=os.path.join(base_dir,'test')\n",
    "# os.mkdir(test_dir)"
   ]
  },
  {
   "cell_type": "code",
   "execution_count": 3,
   "metadata": {},
   "outputs": [],
   "source": [
    "train_cats_dir = os.path.join(train_dir,'cats')\n",
    "# os.mkdir(train_cats_dir)\n",
    "\n",
    "validation_cats_dir=os.path.join(validation_dir,'cats')\n",
    "# os.mkdir(validation_cats_dir)\n",
    "\n",
    "test_cats_dir = os.path.join(test_dir,'cat')\n",
    "# os.mkdir(test_cats_dir)\n"
   ]
  },
  {
   "cell_type": "code",
   "execution_count": 4,
   "metadata": {},
   "outputs": [],
   "source": [
    "train_dogs_dir = os.path.join(train_dir,'dogs')\n",
    "# os.mkdir(train_dogs_dir)\n",
    "\n",
    "validation_dogs_dir=os.path.join(validation_dir,'dogs')\n",
    "# os.mkdir(validation_dogs_dir)\n",
    "\n",
    "test_dogs_dir = os.path.join(test_dir,'dogs')\n",
    "# os.mkdir(test_dogs_dir)\n"
   ]
  },
  {
   "cell_type": "code",
   "execution_count": null,
   "metadata": {},
   "outputs": [],
   "source": [
    "fnames = ['cat.{}.jpg'.format(i) for i in range(1000)]\n",
    "for fname in fnames:\n",
    "    src = os.path.join(original_dataset_dir,fname)\n",
    "    dst=os.path.join(train_cats_dir,fname)\n",
    "    shutil.copyfile(src,dst)\n",
    "    \n",
    "fnames = ['cat.{}.jpg'.format(i) for i in range(1000,1500)]\n",
    "for fname in fnames:\n",
    "    src = os.path.join(original_dataset_dir,fname)\n",
    "    dst=os.path.join(validation_cats_dir,fname)\n",
    "    shutil.copyfile(src,dst)\n",
    "\n",
    "fnames = ['cat.{}.jpg'.format(i) for i in range(1500,2000)]\n",
    "for fname in fnames:\n",
    "    src = os.path.join(original_dataset_dir,fname)\n",
    "    dst=os.path.join(test_cats_dir,fname)\n",
    "    shutil.copyfile(src,dst)"
   ]
  },
  {
   "cell_type": "code",
   "execution_count": null,
   "metadata": {},
   "outputs": [],
   "source": [
    "fnames = ['dog.{}.jpg'.format(i) for i in range(1000)]\n",
    "for fname in fnames:\n",
    "    src = os.path.join(original_dataset_dir,fname)\n",
    "    dst=os.path.join(train_dogs_dir,fname)\n",
    "    shutil.copyfile(src,dst)\n",
    "    \n",
    "fnames = ['dog.{}.jpg'.format(i) for i in range(1000,1500)]\n",
    "for fname in fnames:\n",
    "    src = os.path.join(original_dataset_dir,fname)\n",
    "    dst=os.path.join(validation_dogs_dir,fname)\n",
    "    shutil.copyfile(src,dst)\n",
    "\n",
    "fnames = ['dog.{}.jpg'.format(i) for i in range(1500,2000)]\n",
    "for fname in fnames:\n",
    "    src = os.path.join(original_dataset_dir,fname)\n",
    "    dst=os.path.join(test_dogs_dir,fname)\n",
    "    shutil.copyfile(src,dst)"
   ]
  },
  {
   "cell_type": "code",
   "execution_count": 5,
   "metadata": {},
   "outputs": [
    {
     "name": "stdout",
     "output_type": "stream",
     "text": [
      "total training cat images: 1000\n",
      "total test cat images: 500\n",
      "total validation cat images: 500\n",
      "total training dog images: 1000\n",
      "total test dog images: 500\n",
      "total validation dog images: 500\n"
     ]
    }
   ],
   "source": [
    "print('total training cat images:',len(os.listdir(train_cats_dir)))\n",
    "print('total test cat images:',len(os.listdir(test_cats_dir)))\n",
    "print('total validation cat images:',len(os.listdir(validation_cats_dir)))\n",
    "print('total training dog images:',len(os.listdir(train_dogs_dir)))\n",
    "print('total test dog images:',len(os.listdir(test_dogs_dir)))\n",
    "print('total validation dog images:',len(os.listdir(validation_dogs_dir)))"
   ]
  },
  {
   "cell_type": "code",
   "execution_count": 6,
   "metadata": {},
   "outputs": [],
   "source": [
    "from tensorflow.keras import layers\n",
    "from tensorflow.keras import models\n",
    "\n",
    "model = models.Sequential()\n",
    "model.add(layers.Conv2D(32, (3,3),activation='relu',input_shape=(150,150,3)))\n",
    "model.add(layers.MaxPooling2D((2,2)))\n",
    "model.add(layers.Conv2D(64, (3,3),activation='relu'))\n",
    "model.add(layers.MaxPooling2D((2,2)))\n",
    "model.add(layers.Conv2D(128, (3,3),activation='relu'))\n",
    "model.add(layers.MaxPooling2D((2,2)))\n",
    "model.add(layers.Conv2D(128, (3,3),activation='relu'))\n",
    "model.add(layers.MaxPooling2D((2,2)))\n",
    "model.add(layers.Flatten())\n",
    "model.add(layers.Dense(512, activation='relu'))\n",
    "model.add(layers.Dense(1, activation='sigmoid'))\n"
   ]
  },
  {
   "cell_type": "code",
   "execution_count": 8,
   "metadata": {},
   "outputs": [],
   "source": [
    "from tensorflow.keras import optimizers\n",
    "\n",
    "model.compile(loss='binary_crossentropy',\n",
    "             optimizer=optimizers.RMSprop(lr=1e-4),\n",
    "             metrics=['acc'])"
   ]
  },
  {
   "cell_type": "code",
   "execution_count": 9,
   "metadata": {},
   "outputs": [
    {
     "name": "stdout",
     "output_type": "stream",
     "text": [
      "Found 2000 images belonging to 2 classes.\n",
      "Found 1000 images belonging to 2 classes.\n"
     ]
    }
   ],
   "source": [
    "from tensorflow.keras.preprocessing.image import ImageDataGenerator\n",
    "\n",
    "train_datagen = ImageDataGenerator(rescale=1./255)\n",
    "test_datagen = ImageDataGenerator(rescale=1./255)\n",
    "validation_datagen = ImageDataGenerator(rescale=1./255)\n",
    "\n",
    "\n",
    "train_generator = train_datagen.flow_from_directory(\n",
    "    train_dir,\n",
    "    target_size=(150,150),\n",
    "    batch_size=20,\n",
    "    class_mode='binary')\n",
    "\n",
    "validation_generator = validation_datagen.flow_from_directory(\n",
    "    validation_dir,\n",
    "    target_size=(150,150),\n",
    "    batch_size=20,\n",
    "    class_mode='binary')"
   ]
  },
  {
   "cell_type": "code",
   "execution_count": 10,
   "metadata": {},
   "outputs": [
    {
     "name": "stdout",
     "output_type": "stream",
     "text": [
      "data batch sahpe: (20, 150, 150, 3)\n",
      "labels batch shape: (20,)\n"
     ]
    }
   ],
   "source": [
    "for data_batch, labels_batch in train_generator:\n",
    "    print('data batch sahpe:', data_batch.shape)\n",
    "    print('labels batch shape:', labels_batch.shape)\n",
    "    break\n"
   ]
  },
  {
   "cell_type": "code",
   "execution_count": 11,
   "metadata": {},
   "outputs": [
    {
     "name": "stdout",
     "output_type": "stream",
     "text": [
      "WARNING:tensorflow:From <ipython-input-11-926c1da02a77>:6: Model.fit_generator (from tensorflow.python.keras.engine.training) is deprecated and will be removed in a future version.\n",
      "Instructions for updating:\n",
      "Please use Model.fit, which supports generators.\n",
      "Epoch 1/30\n",
      "100/100 [==============================] - 64s 639ms/step - loss: 0.6892 - acc: 0.5280 - val_loss: 0.6818 - val_acc: 0.5230\n",
      "Epoch 2/30\n",
      "100/100 [==============================] - 58s 580ms/step - loss: 0.6623 - acc: 0.6070 - val_loss: 0.6704 - val_acc: 0.5760\n",
      "Epoch 3/30\n",
      "100/100 [==============================] - 56s 563ms/step - loss: 0.6189 - acc: 0.6635 - val_loss: 0.6205 - val_acc: 0.6620\n",
      "Epoch 4/30\n",
      "100/100 [==============================] - 57s 570ms/step - loss: 0.5751 - acc: 0.6950 - val_loss: 0.6179 - val_acc: 0.6700\n",
      "Epoch 5/30\n",
      "100/100 [==============================] - 57s 570ms/step - loss: 0.5455 - acc: 0.7200 - val_loss: 0.6058 - val_acc: 0.6730\n",
      "Epoch 6/30\n",
      "100/100 [==============================] - 62s 616ms/step - loss: 0.5191 - acc: 0.7415 - val_loss: 0.5797 - val_acc: 0.6870\n",
      "Epoch 7/30\n",
      "100/100 [==============================] - 57s 572ms/step - loss: 0.4886 - acc: 0.7580 - val_loss: 0.5395 - val_acc: 0.7230\n",
      "Epoch 8/30\n",
      "100/100 [==============================] - 59s 595ms/step - loss: 0.4564 - acc: 0.7860 - val_loss: 0.5316 - val_acc: 0.7290\n",
      "Epoch 9/30\n",
      "100/100 [==============================] - 60s 598ms/step - loss: 0.4380 - acc: 0.7900 - val_loss: 0.5730 - val_acc: 0.7170\n",
      "Epoch 10/30\n",
      "100/100 [==============================] - 59s 593ms/step - loss: 0.4192 - acc: 0.8125 - val_loss: 0.5458 - val_acc: 0.7140\n",
      "Epoch 11/30\n",
      "100/100 [==============================] - 64s 640ms/step - loss: 0.3864 - acc: 0.8275 - val_loss: 0.5325 - val_acc: 0.7400\n",
      "Epoch 12/30\n",
      "100/100 [==============================] - 62s 623ms/step - loss: 0.3746 - acc: 0.8360 - val_loss: 0.5654 - val_acc: 0.7190\n",
      "Epoch 13/30\n",
      "100/100 [==============================] - 62s 623ms/step - loss: 0.3520 - acc: 0.8490 - val_loss: 0.5559 - val_acc: 0.7300\n",
      "Epoch 14/30\n",
      "100/100 [==============================] - 60s 604ms/step - loss: 0.3323 - acc: 0.8560 - val_loss: 0.5366 - val_acc: 0.7410\n",
      "Epoch 15/30\n",
      "100/100 [==============================] - 65s 652ms/step - loss: 0.3045 - acc: 0.8680 - val_loss: 0.5890 - val_acc: 0.7410\n",
      "Epoch 16/30\n",
      "100/100 [==============================] - 62s 620ms/step - loss: 0.2886 - acc: 0.8785 - val_loss: 0.5614 - val_acc: 0.7360\n",
      "Epoch 17/30\n",
      "100/100 [==============================] - 64s 639ms/step - loss: 0.2582 - acc: 0.8965 - val_loss: 0.5794 - val_acc: 0.7400\n",
      "Epoch 18/30\n",
      "100/100 [==============================] - 64s 639ms/step - loss: 0.2462 - acc: 0.9050 - val_loss: 0.5973 - val_acc: 0.7360\n",
      "Epoch 19/30\n",
      "100/100 [==============================] - 62s 623ms/step - loss: 0.2191 - acc: 0.9100 - val_loss: 0.6156 - val_acc: 0.7420\n",
      "Epoch 20/30\n",
      "100/100 [==============================] - 61s 610ms/step - loss: 0.1959 - acc: 0.9335 - val_loss: 0.6218 - val_acc: 0.7510\n",
      "Epoch 21/30\n",
      "100/100 [==============================] - 60s 602ms/step - loss: 0.1870 - acc: 0.9275 - val_loss: 0.6485 - val_acc: 0.7320\n",
      "Epoch 22/30\n",
      "100/100 [==============================] - 60s 601ms/step - loss: 0.1675 - acc: 0.9380 - val_loss: 0.6936 - val_acc: 0.7370\n",
      "Epoch 23/30\n",
      "100/100 [==============================] - 61s 610ms/step - loss: 0.1503 - acc: 0.9460 - val_loss: 0.6673 - val_acc: 0.7370\n",
      "Epoch 24/30\n",
      "100/100 [==============================] - 62s 620ms/step - loss: 0.1262 - acc: 0.9600 - val_loss: 0.7226 - val_acc: 0.7480\n",
      "Epoch 25/30\n",
      "100/100 [==============================] - 61s 606ms/step - loss: 0.1161 - acc: 0.9640 - val_loss: 0.7885 - val_acc: 0.7280\n",
      "Epoch 26/30\n",
      "100/100 [==============================] - 60s 605ms/step - loss: 0.0997 - acc: 0.9675 - val_loss: 0.7403 - val_acc: 0.7530\n",
      "Epoch 27/30\n",
      "100/100 [==============================] - 61s 610ms/step - loss: 0.0939 - acc: 0.9710 - val_loss: 0.8078 - val_acc: 0.7430\n",
      "Epoch 28/30\n",
      "100/100 [==============================] - 61s 609ms/step - loss: 0.0787 - acc: 0.9765 - val_loss: 0.8006 - val_acc: 0.7410\n",
      "Epoch 29/30\n",
      "100/100 [==============================] - 63s 626ms/step - loss: 0.0614 - acc: 0.9810 - val_loss: 0.8662 - val_acc: 0.7490\n",
      "Epoch 30/30\n",
      "100/100 [==============================] - 61s 609ms/step - loss: 0.0516 - acc: 0.9860 - val_loss: 0.8935 - val_acc: 0.7490\n"
     ]
    }
   ],
   "source": [
    "history = model.fit_generator(\n",
    "    train_generator,\n",
    "    steps_per_epoch=100,\n",
    "    epochs=30,\n",
    "    validation_data = validation_generator,\n",
    "    validation_steps=50\n",
    ")"
   ]
  },
  {
   "cell_type": "code",
   "execution_count": 12,
   "metadata": {},
   "outputs": [],
   "source": [
    "model.save('cats_and_dogs_small_1.h5')"
   ]
  },
  {
   "cell_type": "code",
   "execution_count": 16,
   "metadata": {},
   "outputs": [
    {
     "data": {
      "image/png": "[encoded data removed]",
      "text/plain": [
       "<Figure size 432x288 with 1 Axes>"
      ]
     },
     "metadata": {
      "needs_background": "light"
     },
     "output_type": "display_data"
    }
   ],
   "source": [
    "import matplotlib.pyplot as plt\n",
    "history_dict = history.history\n",
    "history_dict.keys()\n",
    "[u'acc', u'loss' , u'val_acc', u'val_loss']\n",
    "\n",
    "loss_values = history_dict['loss']\n",
    "val_loss_values = history_dict['val_loss']\n",
    "\n",
    "epochs= range(1, len(loss_values) + 1)\n",
    "\n",
    "plt.plot(epochs, loss_values, 'bo' , label='Training loss')\n",
    "plt.plot(epochs, val_loss_values, 'b' , label='Validation loss')\n",
    "plt.title('Training and validation loss')\n",
    "plt.xlabel('Epochs')\n",
    "plt.ylabel('loss')\n",
    "plt.legend()\n",
    "\n",
    "plt.show()"
   ]
  },
  {
   "cell_type": "code",
   "execution_count": 20,
   "metadata": {},
   "outputs": [],
   "source": [
    "model = models.Sequential()\n",
    "model.add(layers.Conv2D(32, (3,3),activation='relu',input_shape=(150,150,3)))\n",
    "model.add(layers.MaxPooling2D((2,2)))\n",
    "model.add(layers.Conv2D(64, (3,3),activation='relu'))\n",
    "model.add(layers.MaxPooling2D((2,2)))\n",
    "model.add(layers.Conv2D(128, (3,3),activation='relu'))\n",
    "model.add(layers.MaxPooling2D((2,2)))\n",
    "model.add(layers.Conv2D(128, (3,3),activation='relu'))\n",
    "model.add(layers.MaxPooling2D((2,2)))\n",
    "model.add(layers.Flatten())\n",
    "model.add(layers.Dropout(0.5))\n",
    "model.add(layers.Dense(512, activation='relu'))\n",
    "model.add(layers.Dense(1, activation='sigmoid'))\n",
    "\n",
    "model.compile(loss='binary_crossentropy',\n",
    "             optimizer=optimizers.RMSprop(lr=1e-4),\n",
    "             metrics=['acc'])"
   ]
  },
  {
   "cell_type": "code",
   "execution_count": 21,
   "metadata": {},
   "outputs": [
    {
     "name": "stdout",
     "output_type": "stream",
     "text": [
      "Found 2000 images belonging to 2 classes.\n",
      "Found 1000 images belonging to 2 classes.\n",
      "Epoch 1/100\n",
      " 63/100 [=================>............] - ETA: 29s - loss: 0.6982 - acc: 0.5140WARNING:tensorflow:Your input ran out of data; interrupting training. Make sure that your dataset or generator can generate at least `steps_per_epoch * epochs` batches (in this case, 10000 batches). You may need to use the repeat() function when building your dataset.\n",
      "WARNING:tensorflow:Your input ran out of data; interrupting training. Make sure that your dataset or generator can generate at least `steps_per_epoch * epochs` batches (in this case, 50 batches). You may need to use the repeat() function when building your dataset.\n",
      " 63/100 [=================>............] - 58s 920ms/step - loss: 0.6982 - acc: 0.5140 - val_loss: 0.6851 - val_acc: 0.5810\n"
     ]
    }
   ],
   "source": [
    "\n",
    "train_datagen = ImageDataGenerator(rescale=1./255,\n",
    "                                  rotation_range=40,\n",
    "                                  width_shift_range=0.2,\n",
    "                                  height_shift_range=0.2,\n",
    "                                  shear_range=0.2,\n",
    "                                  zoom_range=0.2,\n",
    "                                  horizontal_flip=True,)\n",
    "test_datagen = ImageDataGenerator(rescale=1./255)\n",
    "validation_datagen = ImageDataGenerator(rescale=1./255)\n",
    "\n",
    "\n",
    "train_generator = train_datagen.flow_from_directory(\n",
    "    train_dir,\n",
    "    target_size=(150,150),\n",
    "    batch_size=32,\n",
    "    class_mode='binary')\n",
    "\n",
    "validation_generator = validation_datagen.flow_from_directory(\n",
    "    validation_dir,\n",
    "    target_size=(150,150),\n",
    "    batch_size=32,\n",
    "    class_mode='binary')\n",
    "\n",
    "history = model.fit_generator(\n",
    "    train_generator,\n",
    "    steps_per_epoch=100,\n",
    "    epochs=100,\n",
    "    validation_data=validation_generator,\n",
    "    validation_steps=50)"
   ]
  }
 ],
 "metadata": {
  "kernelspec": {
   "display_name": "Python 3",
   "language": "python",
   "name": "python3"
  },
  "language_info": {
   "codemirror_mode": {
    "name": "ipython",
    "version": 3
   },
   "file_extension": ".py",
   "mimetype": "text/x-python",
   "name": "python",
   "nbconvert_exporter": "python",
   "pygments_lexer": "ipython3",
   "version": "3.7.6"
  }
 },
 "nbformat": 4,
 "nbformat_minor": 4
}
